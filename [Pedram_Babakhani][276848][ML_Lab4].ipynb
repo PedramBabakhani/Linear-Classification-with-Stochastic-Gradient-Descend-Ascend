{
 "cells": [
  {
   "cell_type": "markdown",
   "metadata": {},
   "source": [
    "# Pedram Babakhani (276848)\n",
    "### Exercise sheet 04"
   ]
  },
  {
   "cell_type": "code",
   "execution_count": 1,
   "metadata": {
    "collapsed": true
   },
   "outputs": [],
   "source": [
    "import pandas as pd\n",
    "import numpy as np\n",
    "import matplotlib.pyplot as plt"
   ]
  },
  {
   "cell_type": "code",
   "execution_count": 2,
   "metadata": {},
   "outputs": [
    {
     "data": {
      "text/html": [
       "<div>\n",
       "<style>\n",
       "    .dataframe thead tr:only-child th {\n",
       "        text-align: right;\n",
       "    }\n",
       "\n",
       "    .dataframe thead th {\n",
       "        text-align: left;\n",
       "    }\n",
       "\n",
       "    .dataframe tbody tr th {\n",
       "        vertical-align: top;\n",
       "    }\n",
       "</style>\n",
       "<table border=\"1\" class=\"dataframe\">\n",
       "  <thead>\n",
       "    <tr style=\"text-align: right;\">\n",
       "      <th></th>\n",
       "      <th>age</th>\n",
       "      <th>job</th>\n",
       "      <th>marital</th>\n",
       "      <th>education</th>\n",
       "      <th>default</th>\n",
       "      <th>housing</th>\n",
       "      <th>loan</th>\n",
       "      <th>contact</th>\n",
       "      <th>month</th>\n",
       "      <th>day_of_week</th>\n",
       "      <th>...</th>\n",
       "      <th>campaign</th>\n",
       "      <th>pdays</th>\n",
       "      <th>previous</th>\n",
       "      <th>poutcome</th>\n",
       "      <th>emp.var.rate</th>\n",
       "      <th>cons.price.idx</th>\n",
       "      <th>cons.conf.idx</th>\n",
       "      <th>euribor3m</th>\n",
       "      <th>nr.employed</th>\n",
       "      <th>y</th>\n",
       "    </tr>\n",
       "  </thead>\n",
       "  <tbody>\n",
       "    <tr>\n",
       "      <th>0</th>\n",
       "      <td>30</td>\n",
       "      <td>blue-collar</td>\n",
       "      <td>married</td>\n",
       "      <td>basic.9y</td>\n",
       "      <td>no</td>\n",
       "      <td>yes</td>\n",
       "      <td>no</td>\n",
       "      <td>cellular</td>\n",
       "      <td>may</td>\n",
       "      <td>fri</td>\n",
       "      <td>...</td>\n",
       "      <td>2</td>\n",
       "      <td>999</td>\n",
       "      <td>0</td>\n",
       "      <td>nonexistent</td>\n",
       "      <td>-1.8</td>\n",
       "      <td>92.893</td>\n",
       "      <td>-46.2</td>\n",
       "      <td>1.313</td>\n",
       "      <td>5099.1</td>\n",
       "      <td>no</td>\n",
       "    </tr>\n",
       "    <tr>\n",
       "      <th>1</th>\n",
       "      <td>39</td>\n",
       "      <td>services</td>\n",
       "      <td>single</td>\n",
       "      <td>high.school</td>\n",
       "      <td>no</td>\n",
       "      <td>no</td>\n",
       "      <td>no</td>\n",
       "      <td>telephone</td>\n",
       "      <td>may</td>\n",
       "      <td>fri</td>\n",
       "      <td>...</td>\n",
       "      <td>4</td>\n",
       "      <td>999</td>\n",
       "      <td>0</td>\n",
       "      <td>nonexistent</td>\n",
       "      <td>1.1</td>\n",
       "      <td>93.994</td>\n",
       "      <td>-36.4</td>\n",
       "      <td>4.855</td>\n",
       "      <td>5191.0</td>\n",
       "      <td>no</td>\n",
       "    </tr>\n",
       "    <tr>\n",
       "      <th>2</th>\n",
       "      <td>25</td>\n",
       "      <td>services</td>\n",
       "      <td>married</td>\n",
       "      <td>high.school</td>\n",
       "      <td>no</td>\n",
       "      <td>yes</td>\n",
       "      <td>no</td>\n",
       "      <td>telephone</td>\n",
       "      <td>jun</td>\n",
       "      <td>wed</td>\n",
       "      <td>...</td>\n",
       "      <td>1</td>\n",
       "      <td>999</td>\n",
       "      <td>0</td>\n",
       "      <td>nonexistent</td>\n",
       "      <td>1.4</td>\n",
       "      <td>94.465</td>\n",
       "      <td>-41.8</td>\n",
       "      <td>4.962</td>\n",
       "      <td>5228.1</td>\n",
       "      <td>no</td>\n",
       "    </tr>\n",
       "    <tr>\n",
       "      <th>3</th>\n",
       "      <td>38</td>\n",
       "      <td>services</td>\n",
       "      <td>married</td>\n",
       "      <td>basic.9y</td>\n",
       "      <td>no</td>\n",
       "      <td>unknown</td>\n",
       "      <td>unknown</td>\n",
       "      <td>telephone</td>\n",
       "      <td>jun</td>\n",
       "      <td>fri</td>\n",
       "      <td>...</td>\n",
       "      <td>3</td>\n",
       "      <td>999</td>\n",
       "      <td>0</td>\n",
       "      <td>nonexistent</td>\n",
       "      <td>1.4</td>\n",
       "      <td>94.465</td>\n",
       "      <td>-41.8</td>\n",
       "      <td>4.959</td>\n",
       "      <td>5228.1</td>\n",
       "      <td>no</td>\n",
       "    </tr>\n",
       "    <tr>\n",
       "      <th>4</th>\n",
       "      <td>47</td>\n",
       "      <td>admin.</td>\n",
       "      <td>married</td>\n",
       "      <td>university.degree</td>\n",
       "      <td>no</td>\n",
       "      <td>yes</td>\n",
       "      <td>no</td>\n",
       "      <td>cellular</td>\n",
       "      <td>nov</td>\n",
       "      <td>mon</td>\n",
       "      <td>...</td>\n",
       "      <td>1</td>\n",
       "      <td>999</td>\n",
       "      <td>0</td>\n",
       "      <td>nonexistent</td>\n",
       "      <td>-0.1</td>\n",
       "      <td>93.200</td>\n",
       "      <td>-42.0</td>\n",
       "      <td>4.191</td>\n",
       "      <td>5195.8</td>\n",
       "      <td>no</td>\n",
       "    </tr>\n",
       "  </tbody>\n",
       "</table>\n",
       "<p>5 rows × 21 columns</p>\n",
       "</div>"
      ],
      "text/plain": [
       "   age          job  marital          education default  housing     loan  \\\n",
       "0   30  blue-collar  married           basic.9y      no      yes       no   \n",
       "1   39     services   single        high.school      no       no       no   \n",
       "2   25     services  married        high.school      no      yes       no   \n",
       "3   38     services  married           basic.9y      no  unknown  unknown   \n",
       "4   47       admin.  married  university.degree      no      yes       no   \n",
       "\n",
       "     contact month day_of_week ...  campaign  pdays  previous     poutcome  \\\n",
       "0   cellular   may         fri ...         2    999         0  nonexistent   \n",
       "1  telephone   may         fri ...         4    999         0  nonexistent   \n",
       "2  telephone   jun         wed ...         1    999         0  nonexistent   \n",
       "3  telephone   jun         fri ...         3    999         0  nonexistent   \n",
       "4   cellular   nov         mon ...         1    999         0  nonexistent   \n",
       "\n",
       "  emp.var.rate  cons.price.idx  cons.conf.idx  euribor3m  nr.employed   y  \n",
       "0         -1.8          92.893          -46.2      1.313       5099.1  no  \n",
       "1          1.1          93.994          -36.4      4.855       5191.0  no  \n",
       "2          1.4          94.465          -41.8      4.962       5228.1  no  \n",
       "3          1.4          94.465          -41.8      4.959       5228.1  no  \n",
       "4         -0.1          93.200          -42.0      4.191       5195.8  no  \n",
       "\n",
       "[5 rows x 21 columns]"
      ]
     },
     "execution_count": 2,
     "metadata": {},
     "output_type": "execute_result"
    }
   ],
   "source": [
    "bank_data = pd.read_csv(\"C:/Users/Pedram/ML_LAB_4/bank-additional.csv\", sep= \";\")\n",
    "bank_data.head()"
   ]
  },
  {
   "cell_type": "code",
   "execution_count": 3,
   "metadata": {},
   "outputs": [
    {
     "data": {
      "text/html": [
       "<div>\n",
       "<style>\n",
       "    .dataframe thead tr:only-child th {\n",
       "        text-align: right;\n",
       "    }\n",
       "\n",
       "    .dataframe thead th {\n",
       "        text-align: left;\n",
       "    }\n",
       "\n",
       "    .dataframe tbody tr th {\n",
       "        vertical-align: top;\n",
       "    }\n",
       "</style>\n",
       "<table border=\"1\" class=\"dataframe\">\n",
       "  <thead>\n",
       "    <tr style=\"text-align: right;\">\n",
       "      <th></th>\n",
       "      <th>age</th>\n",
       "      <th>job</th>\n",
       "      <th>marital</th>\n",
       "      <th>education</th>\n",
       "      <th>default</th>\n",
       "      <th>housing</th>\n",
       "      <th>loan</th>\n",
       "      <th>campaign</th>\n",
       "      <th>pdays</th>\n",
       "      <th>poutcome</th>\n",
       "      <th>emp.var.rate</th>\n",
       "      <th>cons.price.idx</th>\n",
       "      <th>cons.conf.idx</th>\n",
       "      <th>euribor3m</th>\n",
       "      <th>nr.employed</th>\n",
       "      <th>y</th>\n",
       "    </tr>\n",
       "  </thead>\n",
       "  <tbody>\n",
       "    <tr>\n",
       "      <th>0</th>\n",
       "      <td>30</td>\n",
       "      <td>blue-collar</td>\n",
       "      <td>married</td>\n",
       "      <td>basic.9y</td>\n",
       "      <td>no</td>\n",
       "      <td>yes</td>\n",
       "      <td>no</td>\n",
       "      <td>2</td>\n",
       "      <td>999</td>\n",
       "      <td>nonexistent</td>\n",
       "      <td>-1.8</td>\n",
       "      <td>92.893</td>\n",
       "      <td>-46.2</td>\n",
       "      <td>1.313</td>\n",
       "      <td>5099.1</td>\n",
       "      <td>no</td>\n",
       "    </tr>\n",
       "    <tr>\n",
       "      <th>1</th>\n",
       "      <td>39</td>\n",
       "      <td>services</td>\n",
       "      <td>single</td>\n",
       "      <td>high.school</td>\n",
       "      <td>no</td>\n",
       "      <td>no</td>\n",
       "      <td>no</td>\n",
       "      <td>4</td>\n",
       "      <td>999</td>\n",
       "      <td>nonexistent</td>\n",
       "      <td>1.1</td>\n",
       "      <td>93.994</td>\n",
       "      <td>-36.4</td>\n",
       "      <td>4.855</td>\n",
       "      <td>5191.0</td>\n",
       "      <td>no</td>\n",
       "    </tr>\n",
       "    <tr>\n",
       "      <th>2</th>\n",
       "      <td>25</td>\n",
       "      <td>services</td>\n",
       "      <td>married</td>\n",
       "      <td>high.school</td>\n",
       "      <td>no</td>\n",
       "      <td>yes</td>\n",
       "      <td>no</td>\n",
       "      <td>1</td>\n",
       "      <td>999</td>\n",
       "      <td>nonexistent</td>\n",
       "      <td>1.4</td>\n",
       "      <td>94.465</td>\n",
       "      <td>-41.8</td>\n",
       "      <td>4.962</td>\n",
       "      <td>5228.1</td>\n",
       "      <td>no</td>\n",
       "    </tr>\n",
       "    <tr>\n",
       "      <th>3</th>\n",
       "      <td>38</td>\n",
       "      <td>services</td>\n",
       "      <td>married</td>\n",
       "      <td>basic.9y</td>\n",
       "      <td>no</td>\n",
       "      <td>unknown</td>\n",
       "      <td>unknown</td>\n",
       "      <td>3</td>\n",
       "      <td>999</td>\n",
       "      <td>nonexistent</td>\n",
       "      <td>1.4</td>\n",
       "      <td>94.465</td>\n",
       "      <td>-41.8</td>\n",
       "      <td>4.959</td>\n",
       "      <td>5228.1</td>\n",
       "      <td>no</td>\n",
       "    </tr>\n",
       "    <tr>\n",
       "      <th>4</th>\n",
       "      <td>47</td>\n",
       "      <td>admin.</td>\n",
       "      <td>married</td>\n",
       "      <td>university.degree</td>\n",
       "      <td>no</td>\n",
       "      <td>yes</td>\n",
       "      <td>no</td>\n",
       "      <td>1</td>\n",
       "      <td>999</td>\n",
       "      <td>nonexistent</td>\n",
       "      <td>-0.1</td>\n",
       "      <td>93.200</td>\n",
       "      <td>-42.0</td>\n",
       "      <td>4.191</td>\n",
       "      <td>5195.8</td>\n",
       "      <td>no</td>\n",
       "    </tr>\n",
       "  </tbody>\n",
       "</table>\n",
       "</div>"
      ],
      "text/plain": [
       "   age          job  marital          education default  housing     loan  \\\n",
       "0   30  blue-collar  married           basic.9y      no      yes       no   \n",
       "1   39     services   single        high.school      no       no       no   \n",
       "2   25     services  married        high.school      no      yes       no   \n",
       "3   38     services  married           basic.9y      no  unknown  unknown   \n",
       "4   47       admin.  married  university.degree      no      yes       no   \n",
       "\n",
       "   campaign  pdays     poutcome  emp.var.rate  cons.price.idx  cons.conf.idx  \\\n",
       "0         2    999  nonexistent          -1.8          92.893          -46.2   \n",
       "1         4    999  nonexistent           1.1          93.994          -36.4   \n",
       "2         1    999  nonexistent           1.4          94.465          -41.8   \n",
       "3         3    999  nonexistent           1.4          94.465          -41.8   \n",
       "4         1    999  nonexistent          -0.1          93.200          -42.0   \n",
       "\n",
       "   euribor3m  nr.employed   y  \n",
       "0      1.313       5099.1  no  \n",
       "1      4.855       5191.0  no  \n",
       "2      4.962       5228.1  no  \n",
       "3      4.959       5228.1  no  \n",
       "4      4.191       5195.8  no  "
      ]
     },
     "execution_count": 3,
     "metadata": {},
     "output_type": "execute_result"
    }
   ],
   "source": [
    "bank_data.drop([\"day_of_week\",\"previous\",\"duration\",\"month\",\"contact\"],axis=1,inplace=True)\n",
    "bank_data.head()"
   ]
  },
  {
   "cell_type": "code",
   "execution_count": 4,
   "metadata": {
    "collapsed": true
   },
   "outputs": [],
   "source": [
    "bank_data['y'] =list(map(lambda x: 0 if x==\"no\" else 1,bank_data.y))\n",
    "bank_data = pd.get_dummies(bank_data)"
   ]
  },
  {
   "cell_type": "markdown",
   "metadata": {},
   "source": [
    "### Dividing the datasets into Test and Train datasets"
   ]
  },
  {
   "cell_type": "code",
   "execution_count": 5,
   "metadata": {
    "collapsed": true
   },
   "outputs": [],
   "source": [
    "bank_train = bank_data.sample(frac=0.8, random_state=1)\n",
    "bank_test = bank_data.drop(bank_train.index)\n",
    "bank_train.reset_index(drop=True,inplace=True)\n",
    "bank_test.reset_index(drop=True,inplace=True)"
   ]
  },
  {
   "cell_type": "code",
   "execution_count": 6,
   "metadata": {
    "collapsed": true
   },
   "outputs": [],
   "source": [
    "bank_train_X = bank_train.drop([\"y\"], axis=1) #separate X & Y for test and train data\n",
    "bank_train_Y = bank_train[[\"y\"]]\n",
    "\n",
    "bank_test_X = bank_test.drop([\"y\"], axis=1)\n",
    "bank_test_Y = bank_test[[\"y\"]]"
   ]
  },
  {
   "cell_type": "code",
   "execution_count": 7,
   "metadata": {
    "collapsed": true
   },
   "outputs": [],
   "source": [
    "bank_train_X = (bank_train_X - bank_train_X.mean())/(bank_train_X.std()+0.000001) # Data normalization\n",
    "bank_test_X = (bank_test_X - bank_test_X.mean())/(bank_test_X.std()+0.000001)"
   ]
  },
  {
   "cell_type": "code",
   "execution_count": 8,
   "metadata": {
    "collapsed": true
   },
   "outputs": [],
   "source": [
    "bank_train_X = bank_train_X.as_matrix() # Training \n",
    "bank_train_X = np.hstack((np.ones((len(bank_train_X),1)),bank_train_X))\n",
    "bank_train_Y = bank_train_Y.as_matrix()\n",
    "bank_train_Y = np.array(bank_train_Y).flatten() "
   ]
  },
  {
   "cell_type": "code",
   "execution_count": 9,
   "metadata": {
    "collapsed": true
   },
   "outputs": [],
   "source": [
    "### Test Datasets"
   ]
  },
  {
   "cell_type": "code",
   "execution_count": 10,
   "metadata": {
    "collapsed": true
   },
   "outputs": [],
   "source": [
    "bank_test_X = bank_test_X.as_matrix()\n",
    "bank_test_X = np.hstack((np.ones((len(bank_test_X),1)),bank_test_X))\n",
    "bank_test_Y = bank_test_Y.as_matrix()\n",
    "bank_test_Y = np.array(bank_test_Y).flatten()"
   ]
  },
  {
   "cell_type": "markdown",
   "metadata": {},
   "source": [
    "### Computing logloss"
   ]
  },
  {
   "cell_type": "code",
   "execution_count": 11,
   "metadata": {
    "collapsed": true
   },
   "outputs": [],
   "source": [
    " \n",
    "def loglossfunction(act, pred):\n",
    "    epsilon = 1e-15\n",
    "    pred = np.maximum(epsilon, pred)\n",
    "    pred = np.minimum(1-epsilon, pred)\n",
    "    log_loss = np.sum(act*np.log(pred) + np.subtract(1,act)*np.log(np.subtract(1,pred)))\n",
    "    log_loss = log_loss * -1.0/len(act)\n",
    "    return log_loss"
   ]
  },
  {
   "cell_type": "code",
   "execution_count": 12,
   "metadata": {
    "collapsed": true
   },
   "outputs": [],
   "source": [
    "def shuffle_matries(x,y): #randomly shuffles the two matrices\n",
    "    index = np.arange(len(x))   \n",
    "    np.random.shuffle(index)\n",
    "    y = y[index]\n",
    "    x = x[index,:]\n",
    "    return x,y"
   ]
  },
  {
   "cell_type": "code",
   "execution_count": 13,
   "metadata": {
    "collapsed": true
   },
   "outputs": [],
   "source": [
    "def log_SGD(x_train, y_train, x_test, y_test, beta, alpha, numIterations):\n",
    "    alpha_plus = 1.1\n",
    "    alpha_minus = 0.5\n",
    "    logit_old = 1/(1+np.exp(-1*np.dot(x_train, beta)))\n",
    "    logloss_old = loglossfunction(y_train, logit_old)\n",
    "    Training_logloss = []\n",
    "    Training_logloss.append(logloss_old)\n",
    "    Test_logloss =[]   \n",
    "    for i in range(0,numIterations):\n",
    "        x_train,y_train = shuffle_matries (x_train, y_train)\n",
    "        for j in range(0, 200):\n",
    "            logit = 1/(1+np.exp(-1*np.dot(x_train, beta)))\n",
    "            logloss = loglossfunction(y_train, logit)\n",
    "            gradient = np.dot(x_train[j,:].transpose(),(y_train[j] - logit[j]))* -1.0\n",
    "            beta = beta - alpha * gradient\n",
    "        logit_new = 1/(1+np.exp(-1*np.dot(x_train, beta)))\n",
    "        logloss_new = loglossfunction(y_train, logit_new)\n",
    "        if (logloss_old - logloss_new) <= 0:\n",
    "            alpha = alpha*alpha_minus\n",
    "        else:\n",
    "            alpha = alpha*alpha_plus\n",
    "        logloss_old = logloss_new\n",
    "        Training_logloss.append(logloss_new)\n",
    "        logit_test = 1/(1+np.exp(-1*np.dot(x_test, beta)))\n",
    "        logloss_test = loglossfunction(y_test, logit_test)\n",
    "        Test_logloss.append(logloss_test)\n",
    "        print(\"Epochs %d | logloss: %f\" % (i, logloss))\n",
    "    return beta, Training_logloss, Test_logloss"
   ]
  },
  {
   "cell_type": "markdown",
   "metadata": {},
   "source": [
    "### Run the SGD algorithm\n",
    "Alpha is 0.02 and number of iterations is 100"
   ]
  },
  {
   "cell_type": "code",
   "execution_count": 14,
   "metadata": {
    "scrolled": true
   },
   "outputs": [
    {
     "name": "stdout",
     "output_type": "stream",
     "text": [
      "Epochs 0 | logloss: 0.719518\n",
      "Epochs 1 | logloss: 0.462203\n",
      "Epochs 2 | logloss: 0.334376\n",
      "Epochs 3 | logloss: 0.313842\n",
      "Epochs 4 | logloss: 0.307975\n",
      "Epochs 5 | logloss: 0.326063\n",
      "Epochs 6 | logloss: 0.299928\n",
      "Epochs 7 | logloss: 0.294189\n",
      "Epochs 8 | logloss: 0.300700\n",
      "Epochs 9 | logloss: 0.299647\n",
      "Epochs 10 | logloss: 0.294677\n",
      "Epochs 11 | logloss: 0.289037\n",
      "Epochs 12 | logloss: 0.291082\n",
      "Epochs 13 | logloss: 0.286795\n",
      "Epochs 14 | logloss: 0.284888\n",
      "Epochs 15 | logloss: 0.284483\n",
      "Epochs 16 | logloss: 0.287552\n",
      "Epochs 17 | logloss: 0.286474\n",
      "Epochs 18 | logloss: 0.285635\n",
      "Epochs 19 | logloss: 0.284632\n",
      "Epochs 20 | logloss: 0.285223\n",
      "Epochs 21 | logloss: 0.285804\n",
      "Epochs 22 | logloss: 0.285503\n",
      "Epochs 23 | logloss: 0.284478\n",
      "Epochs 24 | logloss: 0.284619\n",
      "Epochs 25 | logloss: 0.284194\n",
      "Epochs 26 | logloss: 0.283856\n",
      "Epochs 27 | logloss: 0.283700\n",
      "Epochs 28 | logloss: 0.283832\n",
      "Epochs 29 | logloss: 0.283783\n",
      "Epochs 30 | logloss: 0.283427\n",
      "Epochs 31 | logloss: 0.283382\n",
      "Epochs 32 | logloss: 0.283578\n",
      "Epochs 33 | logloss: 0.283357\n",
      "Epochs 34 | logloss: 0.283304\n",
      "Epochs 35 | logloss: 0.283398\n",
      "Epochs 36 | logloss: 0.283248\n",
      "Epochs 37 | logloss: 0.283134\n",
      "Epochs 38 | logloss: 0.282975\n",
      "Epochs 39 | logloss: 0.282922\n",
      "Epochs 40 | logloss: 0.282856\n",
      "Epochs 41 | logloss: 0.282711\n",
      "Epochs 42 | logloss: 0.282434\n",
      "Epochs 43 | logloss: 0.282386\n",
      "Epochs 44 | logloss: 0.282435\n",
      "Epochs 45 | logloss: 0.282436\n",
      "Epochs 46 | logloss: 0.282420\n",
      "Epochs 47 | logloss: 0.282402\n",
      "Epochs 48 | logloss: 0.282359\n",
      "Epochs 49 | logloss: 0.282275\n",
      "Epochs 50 | logloss: 0.282233\n",
      "Epochs 51 | logloss: 0.282249\n",
      "Epochs 52 | logloss: 0.282231\n",
      "Epochs 53 | logloss: 0.282230\n",
      "Epochs 54 | logloss: 0.282270\n",
      "Epochs 55 | logloss: 0.282275\n",
      "Epochs 56 | logloss: 0.282267\n",
      "Epochs 57 | logloss: 0.282243\n",
      "Epochs 58 | logloss: 0.282229\n",
      "Epochs 59 | logloss: 0.282230\n",
      "Epochs 60 | logloss: 0.282225\n",
      "Epochs 61 | logloss: 0.282217\n",
      "Epochs 62 | logloss: 0.282215\n",
      "Epochs 63 | logloss: 0.282202\n",
      "Epochs 64 | logloss: 0.282192\n",
      "Epochs 65 | logloss: 0.282207\n",
      "Epochs 66 | logloss: 0.282203\n",
      "Epochs 67 | logloss: 0.282201\n",
      "Epochs 68 | logloss: 0.282206\n",
      "Epochs 69 | logloss: 0.282205\n",
      "Epochs 70 | logloss: 0.282204\n",
      "Epochs 71 | logloss: 0.282207\n",
      "Epochs 72 | logloss: 0.282205\n",
      "Epochs 73 | logloss: 0.282204\n",
      "Epochs 74 | logloss: 0.282202\n",
      "Epochs 75 | logloss: 0.282199\n",
      "Epochs 76 | logloss: 0.282198\n",
      "Epochs 77 | logloss: 0.282197\n",
      "Epochs 78 | logloss: 0.282194\n",
      "Epochs 79 | logloss: 0.282193\n",
      "Epochs 80 | logloss: 0.282189\n",
      "Epochs 81 | logloss: 0.282187\n",
      "Epochs 82 | logloss: 0.282181\n",
      "Epochs 83 | logloss: 0.282172\n",
      "Epochs 84 | logloss: 0.282162\n",
      "Epochs 85 | logloss: 0.282157\n",
      "Epochs 86 | logloss: 0.282154\n",
      "Epochs 87 | logloss: 0.282145\n",
      "Epochs 88 | logloss: 0.282139\n",
      "Epochs 89 | logloss: 0.282139\n",
      "Epochs 90 | logloss: 0.282131\n",
      "Epochs 91 | logloss: 0.282123\n",
      "Epochs 92 | logloss: 0.282106\n",
      "Epochs 93 | logloss: 0.282086\n",
      "Epochs 94 | logloss: 0.282082\n",
      "Epochs 95 | logloss: 0.282058\n",
      "Epochs 96 | logloss: 0.282046\n",
      "Epochs 97 | logloss: 0.282025\n",
      "Epochs 98 | logloss: 0.282013\n",
      "Epochs 99 | logloss: 0.282016\n"
     ]
    }
   ],
   "source": [
    "alpha= 0.02\n",
    "beta = np.ones(bank_train_X.shape[1])\n",
    "results = log_SGD(bank_train_X,bank_train_Y, bank_test_X, bank_test_Y, beta,alpha,100)"
   ]
  },
  {
   "cell_type": "markdown",
   "metadata": {},
   "source": [
    "### Plot"
   ]
  },
  {
   "cell_type": "code",
   "execution_count": 15,
   "metadata": {},
   "outputs": [
    {
     "data": {
      "image/png": "[encoded data removed]",
      "text/plain": [
       "<matplotlib.figure.Figure at 0x1ded5e08cc0>"
      ]
     },
     "metadata": {},
     "output_type": "display_data"
    }
   ],
   "source": [
    "training_logloss = results[1] \n",
    "loss_diff = [ abs(t - s) for s, t in zip(training_logloss, training_logloss[1:])]\n",
    "plt.plot(loss_diff,'.', label ='logloss_training')\n",
    "plt.xlabel('Number of Iterations')\n",
    "plt.ylabel('|f(Xi-1)-f(Xi)|')\n",
    "plt.legend()\n",
    "plt.ylim(-0.02,0.02)\n",
    "plt.show()"
   ]
  },
  {
   "cell_type": "code",
   "execution_count": 16,
   "metadata": {},
   "outputs": [
    {
     "data": {
      "image/png": "[encoded data removed]",
      "text/plain": [
       "<matplotlib.figure.Figure at 0x1ded6e12c50>"
      ]
     },
     "metadata": {},
     "output_type": "display_data"
    }
   ],
   "source": [
    "Test_logloss = results[2] \n",
    "plt.plot(Test_logloss,'.',label ='logloss_on_test_set')\n",
    "plt.xlabel('Iterations')\n",
    "plt.ylabel('Test_set_logloss')\n",
    "plt.legend()\n",
    "plt.ylim(0.2,0.55)\n",
    "plt.show()"
   ]
  },
  {
   "cell_type": "markdown",
   "metadata": {},
   "source": [
    "# Same Calculation for occupancy detection dataset"
   ]
  },
  {
   "cell_type": "code",
   "execution_count": 17,
   "metadata": {
    "collapsed": true
   },
   "outputs": [],
   "source": [
    "occupancy = pd.read_csv(\"C:/Users/Pedram/ML_LAB_4/datatraining.txt\",sep=\",\")\n",
    "occupancy.drop([\"date\"], axis=1, inplace=True)"
   ]
  },
  {
   "cell_type": "markdown",
   "metadata": {},
   "source": [
    "### Dividing the datasets into Test and Train datasets"
   ]
  },
  {
   "cell_type": "code",
   "execution_count": 18,
   "metadata": {
    "collapsed": true
   },
   "outputs": [],
   "source": [
    "occupancy_train = occupancy.sample(frac=0.8, random_state=1)\n",
    "occupancy_test = occupancy.drop(occupancy_train.index)\n",
    "occupancy_train.reset_index(drop=True,inplace=True)\n",
    "occupancy_test.reset_index(drop=True,inplace=True)"
   ]
  },
  {
   "cell_type": "markdown",
   "metadata": {},
   "source": [
    "### separating X and Y"
   ]
  },
  {
   "cell_type": "code",
   "execution_count": 19,
   "metadata": {
    "collapsed": true
   },
   "outputs": [],
   "source": [
    "occupancy_train_X = occupancy_train.drop([\"Occupancy\"], axis=1)\n",
    "occupancy_train_Y = occupancy_train[[\"Occupancy\"]]\n",
    "occupancy_test_X = occupancy_test.drop([\"Occupancy\"], axis=1)\n",
    "occupancy_test_Y = occupancy_test[[\"Occupancy\"]]\n",
    "#normaliz the data\n",
    "occupancy_train_X = (occupancy_train_X - occupancy_train_X.mean())/(occupancy_train_X.std()+0.000001)\n",
    "occupancy_test_X = (occupancy_test_X - occupancy_test_X.mean())/(occupancy_test_X.std()+0.000001)"
   ]
  },
  {
   "cell_type": "markdown",
   "metadata": {},
   "source": [
    "### Training Datasets"
   ]
  },
  {
   "cell_type": "code",
   "execution_count": 20,
   "metadata": {
    "collapsed": true
   },
   "outputs": [],
   "source": [
    "occupancy_train_X = occupancy_train_X.as_matrix()\n",
    "occupancy_train_X = np.hstack((np.ones((len(occupancy_train_X),1)),occupancy_train_X))\n",
    "occupancy_train_Y = occupancy_train_Y.as_matrix()\n",
    "occupancy_train_Y = np.array(occupancy_train_Y).flatten()"
   ]
  },
  {
   "cell_type": "markdown",
   "metadata": {},
   "source": [
    "### Test Datasets"
   ]
  },
  {
   "cell_type": "code",
   "execution_count": 21,
   "metadata": {
    "collapsed": true
   },
   "outputs": [],
   "source": [
    "occupancy_test_X = occupancy_test_X.as_matrix()\n",
    "occupancy_test_X = np.hstack((np.ones((len(occupancy_test_X),1)),occupancy_test_X))\n",
    "occupancy_test_Y = occupancy_test_Y.as_matrix()\n",
    "occupancy_test_Y = np.array(occupancy_test_Y).flatten() "
   ]
  },
  {
   "cell_type": "markdown",
   "metadata": {},
   "source": [
    "### Run SGD Algorithm\n",
    "\n",
    "Alpha is 0.02 and number of iterations is 100."
   ]
  },
  {
   "cell_type": "code",
   "execution_count": 22,
   "metadata": {
    "scrolled": true
   },
   "outputs": [
    {
     "name": "stdout",
     "output_type": "stream",
     "text": [
      "Epochs 0 | logloss: 0.531461\n",
      "Epochs 1 | logloss: 0.378963\n",
      "Epochs 2 | logloss: 0.296566\n",
      "Epochs 3 | logloss: 0.237838\n",
      "Epochs 4 | logloss: 0.190254\n",
      "Epochs 5 | logloss: 0.153967\n",
      "Epochs 6 | logloss: 0.129972\n",
      "Epochs 7 | logloss: 0.115427\n",
      "Epochs 8 | logloss: 0.105027\n",
      "Epochs 9 | logloss: 0.099674\n",
      "Epochs 10 | logloss: 0.094757\n",
      "Epochs 11 | logloss: 0.092666\n",
      "Epochs 12 | logloss: 0.089608\n",
      "Epochs 13 | logloss: 0.084209\n",
      "Epochs 14 | logloss: 0.079730\n",
      "Epochs 15 | logloss: 0.078351\n",
      "Epochs 16 | logloss: 0.075291\n",
      "Epochs 17 | logloss: 0.075213\n",
      "Epochs 18 | logloss: 0.073853\n",
      "Epochs 19 | logloss: 0.074697\n",
      "Epochs 20 | logloss: 0.071482\n",
      "Epochs 21 | logloss: 0.068802\n",
      "Epochs 22 | logloss: 0.070932\n",
      "Epochs 23 | logloss: 0.067807\n",
      "Epochs 24 | logloss: 0.067182\n",
      "Epochs 25 | logloss: 0.066878\n",
      "Epochs 26 | logloss: 0.066434\n",
      "Epochs 27 | logloss: 0.066287\n",
      "Epochs 28 | logloss: 0.066230\n",
      "Epochs 29 | logloss: 0.065557\n",
      "Epochs 30 | logloss: 0.065655\n",
      "Epochs 31 | logloss: 0.065190\n",
      "Epochs 32 | logloss: 0.064965\n",
      "Epochs 33 | logloss: 0.064881\n",
      "Epochs 34 | logloss: 0.065094\n",
      "Epochs 35 | logloss: 0.064407\n",
      "Epochs 36 | logloss: 0.064358\n",
      "Epochs 37 | logloss: 0.064429\n",
      "Epochs 38 | logloss: 0.064565\n",
      "Epochs 39 | logloss: 0.064611\n",
      "Epochs 40 | logloss: 0.064630\n",
      "Epochs 41 | logloss: 0.064593\n",
      "Epochs 42 | logloss: 0.064563\n",
      "Epochs 43 | logloss: 0.064513\n",
      "Epochs 44 | logloss: 0.064503\n",
      "Epochs 45 | logloss: 0.064498\n",
      "Epochs 46 | logloss: 0.064529\n",
      "Epochs 47 | logloss: 0.064531\n",
      "Epochs 48 | logloss: 0.064527\n",
      "Epochs 49 | logloss: 0.064520\n",
      "Epochs 50 | logloss: 0.064514\n",
      "Epochs 51 | logloss: 0.064487\n",
      "Epochs 52 | logloss: 0.064483\n",
      "Epochs 53 | logloss: 0.064461\n",
      "Epochs 54 | logloss: 0.064451\n",
      "Epochs 55 | logloss: 0.064480\n",
      "Epochs 56 | logloss: 0.064473\n",
      "Epochs 57 | logloss: 0.064457\n",
      "Epochs 58 | logloss: 0.064475\n",
      "Epochs 59 | logloss: 0.064474\n",
      "Epochs 60 | logloss: 0.064461\n",
      "Epochs 61 | logloss: 0.064451\n",
      "Epochs 62 | logloss: 0.064447\n",
      "Epochs 63 | logloss: 0.064443\n",
      "Epochs 64 | logloss: 0.064455\n",
      "Epochs 65 | logloss: 0.064450\n",
      "Epochs 66 | logloss: 0.064444\n",
      "Epochs 67 | logloss: 0.064447\n",
      "Epochs 68 | logloss: 0.064443\n",
      "Epochs 69 | logloss: 0.064441\n",
      "Epochs 70 | logloss: 0.064440\n",
      "Epochs 71 | logloss: 0.064438\n",
      "Epochs 72 | logloss: 0.064438\n",
      "Epochs 73 | logloss: 0.064433\n",
      "Epochs 74 | logloss: 0.064430\n",
      "Epochs 75 | logloss: 0.064429\n",
      "Epochs 76 | logloss: 0.064430\n",
      "Epochs 77 | logloss: 0.064430\n",
      "Epochs 78 | logloss: 0.064430\n",
      "Epochs 79 | logloss: 0.064429\n",
      "Epochs 80 | logloss: 0.064430\n",
      "Epochs 81 | logloss: 0.064429\n",
      "Epochs 82 | logloss: 0.064428\n",
      "Epochs 83 | logloss: 0.064428\n",
      "Epochs 84 | logloss: 0.064427\n",
      "Epochs 85 | logloss: 0.064427\n",
      "Epochs 86 | logloss: 0.064427\n",
      "Epochs 87 | logloss: 0.064426\n",
      "Epochs 88 | logloss: 0.064425\n",
      "Epochs 89 | logloss: 0.064425\n",
      "Epochs 90 | logloss: 0.064425\n",
      "Epochs 91 | logloss: 0.064423\n",
      "Epochs 92 | logloss: 0.064422\n",
      "Epochs 93 | logloss: 0.064422\n",
      "Epochs 94 | logloss: 0.064421\n",
      "Epochs 95 | logloss: 0.064419\n",
      "Epochs 96 | logloss: 0.064419\n",
      "Epochs 97 | logloss: 0.064419\n",
      "Epochs 98 | logloss: 0.064418\n",
      "Epochs 99 | logloss: 0.064418\n"
     ]
    }
   ],
   "source": [
    "alpha= 0.01\n",
    "beta = np.ones(occupancy_train_X.shape[1])\n",
    "results = log_SGD(occupancy_train_X,occupancy_train_Y, occupancy_train_X, occupancy_train_Y, beta,alpha,100)"
   ]
  },
  {
   "cell_type": "markdown",
   "metadata": {},
   "source": [
    "### Plot"
   ]
  },
  {
   "cell_type": "code",
   "execution_count": 23,
   "metadata": {},
   "outputs": [
    {
     "data": {
      "image/png": "[encoded data removed]",
      "text/plain": [
       "<matplotlib.figure.Figure at 0x1ded7164908>"
      ]
     },
     "metadata": {},
     "output_type": "display_data"
    }
   ],
   "source": [
    "## calculating  |f(xi−1) − f(xi)|\n",
    "training_logloss = results[1] \n",
    "loss_diff = [ abs(t - s) for s, t in zip(training_logloss, training_logloss[1:])]\n",
    "plt.plot(loss_diff,'.',label ='logloss_training')\n",
    "plt.xlabel('Iterations')\n",
    "plt.ylabel('|f(Xi-1)-f(Xi)|')\n",
    "plt.legend()\n",
    "plt.show()"
   ]
  },
  {
   "cell_type": "markdown",
   "metadata": {},
   "source": [
    "### Logloss on test set "
   ]
  },
  {
   "cell_type": "code",
   "execution_count": 24,
   "metadata": {},
   "outputs": [
    {
     "data": {
      "image/png": "[encoded data removed]",
      "text/plain": [
       "<matplotlib.figure.Figure at 0x1ded7e6e208>"
      ]
     },
     "metadata": {},
     "output_type": "display_data"
    }
   ],
   "source": [
    "Test_logloss = results[2] \n",
    "plt.plot(Test_logloss,'.', label ='logloss_test')\n",
    "plt.xlabel('Iterations')\n",
    "plt.ylabel('Test_logloss')\n",
    "plt.legend()\n",
    "plt.show()"
   ]
  },
  {
   "cell_type": "markdown",
   "metadata": {},
   "source": [
    "# Exercise 02"
   ]
  },
  {
   "cell_type": "markdown",
   "metadata": {},
   "source": [
    "### log_reg_SGD_AdaGrad Function"
   ]
  },
  {
   "cell_type": "code",
   "execution_count": 25,
   "metadata": {
    "collapsed": true
   },
   "outputs": [],
   "source": [
    "def log_reg_SGD_AdaGrad(x_train, y_train, x_test, y_test, beta, mu_zero, numIterations):\n",
    "    \n",
    "    h = np.zeros(x_train.shape[1])\n",
    "    Training_logloss = []\n",
    "    Test_logloss =[]\n",
    "    \n",
    "    for i in range(0,numIterations):\n",
    "        x_train,y_train = shuffle_matries(x_train, y_train)\n",
    "        for j in range(0, 1000):\n",
    "            logit = 1/(1+np.exp(-1*np.dot(x_train, beta)))\n",
    "            logloss = loglossfunction(y_train, logit)\n",
    "            gradient = np.dot(x_train[j,:].transpose(),(y_train[j] - logit[j]))* -1.0\n",
    "            \n",
    "            #AdaGrad\n",
    "            h += gradient**2\n",
    "            mu = mu_zero*(1/np.sqrt(h))\n",
    "            \n",
    "            beta = beta - (mu* gradient)\n",
    "            \n",
    "        logit_new = 1/(1+np.exp(-1*np.dot(x_train, beta)))\n",
    "        logloss_new = loglossfunction(y_train, logit_new)\n",
    "        Training_logloss.append(logloss_new)\n",
    "\n",
    "        logit_test = 1/(1+np.exp(-1*np.dot(x_test, beta)))\n",
    "        logloss_test = loglossfunction(y_test, logit_test)\n",
    "        Test_logloss.append(logloss_test)\n",
    "        print(\"Epochs %d | logloss: %f\" % (i, logloss_test))\n",
    "    return beta, Training_logloss, Test_logloss"
   ]
  },
  {
   "cell_type": "markdown",
   "metadata": {},
   "source": [
    "Run the SGD algorithm"
   ]
  },
  {
   "cell_type": "code",
   "execution_count": 26,
   "metadata": {
    "scrolled": true
   },
   "outputs": [
    {
     "name": "stdout",
     "output_type": "stream",
     "text": [
      "Epochs 0 | logloss: 0.122282\n",
      "Epochs 1 | logloss: 0.101421\n",
      "Epochs 2 | logloss: 0.091445\n",
      "Epochs 3 | logloss: 0.085078\n",
      "Epochs 4 | logloss: 0.081133\n",
      "Epochs 5 | logloss: 0.078436\n",
      "Epochs 6 | logloss: 0.076396\n",
      "Epochs 7 | logloss: 0.075218\n",
      "Epochs 8 | logloss: 0.073983\n",
      "Epochs 9 | logloss: 0.073538\n",
      "Epochs 10 | logloss: 0.072294\n",
      "Epochs 11 | logloss: 0.071440\n",
      "Epochs 12 | logloss: 0.070698\n",
      "Epochs 13 | logloss: 0.070225\n",
      "Epochs 14 | logloss: 0.069868\n",
      "Epochs 15 | logloss: 0.069273\n",
      "Epochs 16 | logloss: 0.068775\n",
      "Epochs 17 | logloss: 0.068410\n",
      "Epochs 18 | logloss: 0.068004\n",
      "Epochs 19 | logloss: 0.067693\n",
      "Epochs 20 | logloss: 0.067608\n",
      "Epochs 21 | logloss: 0.067389\n",
      "Epochs 22 | logloss: 0.067122\n",
      "Epochs 23 | logloss: 0.066809\n",
      "Epochs 24 | logloss: 0.066565\n",
      "Epochs 25 | logloss: 0.066631\n",
      "Epochs 26 | logloss: 0.066495\n",
      "Epochs 27 | logloss: 0.066241\n",
      "Epochs 28 | logloss: 0.065881\n",
      "Epochs 29 | logloss: 0.065664\n",
      "Epochs 30 | logloss: 0.065618\n",
      "Epochs 31 | logloss: 0.065457\n",
      "Epochs 32 | logloss: 0.065318\n",
      "Epochs 33 | logloss: 0.065217\n",
      "Epochs 34 | logloss: 0.065037\n",
      "Epochs 35 | logloss: 0.065020\n",
      "Epochs 36 | logloss: 0.064894\n",
      "Epochs 37 | logloss: 0.064797\n",
      "Epochs 38 | logloss: 0.064715\n",
      "Epochs 39 | logloss: 0.064948\n",
      "Epochs 40 | logloss: 0.064704\n",
      "Epochs 41 | logloss: 0.064511\n",
      "Epochs 42 | logloss: 0.064484\n",
      "Epochs 43 | logloss: 0.064371\n",
      "Epochs 44 | logloss: 0.064207\n",
      "Epochs 45 | logloss: 0.064118\n",
      "Epochs 46 | logloss: 0.064013\n",
      "Epochs 47 | logloss: 0.063960\n",
      "Epochs 48 | logloss: 0.063883\n",
      "Epochs 49 | logloss: 0.063809\n",
      "Epochs 50 | logloss: 0.063756\n",
      "Epochs 51 | logloss: 0.063795\n",
      "Epochs 52 | logloss: 0.063664\n",
      "Epochs 53 | logloss: 0.063611\n",
      "Epochs 54 | logloss: 0.063582\n",
      "Epochs 55 | logloss: 0.063614\n",
      "Epochs 56 | logloss: 0.063582\n",
      "Epochs 57 | logloss: 0.063542\n",
      "Epochs 58 | logloss: 0.063610\n",
      "Epochs 59 | logloss: 0.063634\n",
      "Epochs 60 | logloss: 0.063449\n",
      "Epochs 61 | logloss: 0.063539\n",
      "Epochs 62 | logloss: 0.063418\n",
      "Epochs 63 | logloss: 0.063272\n",
      "Epochs 64 | logloss: 0.063353\n",
      "Epochs 65 | logloss: 0.063302\n",
      "Epochs 66 | logloss: 0.063210\n",
      "Epochs 67 | logloss: 0.063254\n",
      "Epochs 68 | logloss: 0.063257\n",
      "Epochs 69 | logloss: 0.063148\n",
      "Epochs 70 | logloss: 0.063084\n",
      "Epochs 71 | logloss: 0.062948\n",
      "Epochs 72 | logloss: 0.062953\n",
      "Epochs 73 | logloss: 0.062913\n",
      "Epochs 74 | logloss: 0.062774\n",
      "Epochs 75 | logloss: 0.062730\n",
      "Epochs 76 | logloss: 0.062734\n",
      "Epochs 77 | logloss: 0.062698\n",
      "Epochs 78 | logloss: 0.062643\n",
      "Epochs 79 | logloss: 0.062629\n",
      "Epochs 80 | logloss: 0.062631\n",
      "Epochs 81 | logloss: 0.062679\n",
      "Epochs 82 | logloss: 0.062583\n",
      "Epochs 83 | logloss: 0.062559\n",
      "Epochs 84 | logloss: 0.062541\n",
      "Epochs 85 | logloss: 0.062522\n",
      "Epochs 86 | logloss: 0.062514\n",
      "Epochs 87 | logloss: 0.062499\n",
      "Epochs 88 | logloss: 0.062480\n",
      "Epochs 89 | logloss: 0.062465\n",
      "Epochs 90 | logloss: 0.062428\n",
      "Epochs 91 | logloss: 0.062411\n",
      "Epochs 92 | logloss: 0.062379\n",
      "Epochs 93 | logloss: 0.062380\n",
      "Epochs 94 | logloss: 0.062400\n",
      "Epochs 95 | logloss: 0.062470\n",
      "Epochs 96 | logloss: 0.062395\n",
      "Epochs 97 | logloss: 0.062354\n",
      "Epochs 98 | logloss: 0.062372\n",
      "Epochs 99 | logloss: 0.062347\n"
     ]
    }
   ],
   "source": [
    "mu_zero= 0.1*np.ones(occupancy_train_X.shape[1])\n",
    "beta = np.ones(occupancy_train_X.shape[1])\n",
    "results = log_reg_SGD_AdaGrad(occupancy_train_X,occupancy_train_Y, occupancy_train_X, occupancy_train_Y, beta,mu_zero,100)"
   ]
  },
  {
   "cell_type": "code",
   "execution_count": 27,
   "metadata": {},
   "outputs": [
    {
     "data": {
      "image/png": "[encoded data removed]",
      "text/plain": [
       "<matplotlib.figure.Figure at 0x1ded560ff60>"
      ]
     },
     "metadata": {},
     "output_type": "display_data"
    },
    {
     "name": "stderr",
     "output_type": "stream",
     "text": [
      "C:\\Users\\Dell\\Anaconda3\\lib\\site-packages\\matplotlib\\axes\\_axes.py:519: UserWarning: No labelled objects found. Use label='...' kwarg on individual plots.\n",
      "  warnings.warn(\"No labelled objects found. \"\n"
     ]
    },
    {
     "data": {
      "image/png": "[encoded data removed]",
      "text/plain": [
       "<matplotlib.figure.Figure at 0x1ded7e737f0>"
      ]
     },
     "metadata": {},
     "output_type": "display_data"
    }
   ],
   "source": [
    "training_logloss = results[1] \n",
    "loss_diff = [ abs(t - s) for s, t in zip(training_logloss, training_logloss[1:])]\n",
    "plt.plot(loss_diff,'.', label='training_logloss')\n",
    "plt.xlabel('Iterations')\n",
    "plt.ylabel('|f(Xi-1)-f(Xi)|')\n",
    "plt.legend()\n",
    "plt.ylim(-0.01,0.01)\n",
    "plt.show()\n",
    "Test_logloss = results[2] \n",
    "plt.plot(Test_logloss,'.')\n",
    "plt.xlabel('Iterations')\n",
    "plt.ylabel('Test_logloss')\n",
    "plt.legend()\n",
    "plt.show()"
   ]
  }
 ],
 "metadata": {
  "anaconda-cloud": {},
  "kernelspec": {
   "display_name": "Python 3",
   "language": "python",
   "name": "python3"
  },
  "language_info": {
   "codemirror_mode": {
    "name": "ipython",
    "version": 3
   },
   "file_extension": ".py",
   "mimetype": "text/x-python",
   "name": "python",
   "nbconvert_exporter": "python",
   "pygments_lexer": "ipython3",
   "version": "3.6.3"
  }
 },
 "nbformat": 4,
 "nbformat_minor": 1
}
